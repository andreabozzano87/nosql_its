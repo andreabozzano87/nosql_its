{
 "cells": [
  {
   "cell_type": "markdown",
   "metadata": {},
   "source": [
    "# ITS 13.2 - Operazioni CRUD in MongoDB\n",
    "\n",
    "Parliamo di:\n",
    "\n",
    "- `insert()` e `insertOne()`\n",
    "- `find()` e `find_one()`\n",
    "- `update()` e `updateOne()`\n",
    "- `delete()` e `deleteOne()`\n",
    "\n",
    "Abbiamo chiaro qual è la differenza tra le prime e le seconde, giusto?\n",
    "\n",
    "Utilizzando _pymongo_ abbiamo (occhio alla sintassi):\n",
    "\n",
    "- `insert()` e `insert_one()`\n",
    "- `find()` e `findOne()`\n",
    "- `update_one()` e `update_many()`\n",
    "- `delete_one()` e `delete_many()`\n",
    "\n",
    "Che accettano un argomento di tipo _dictionary_ contenente sostanzialmente il documento da inserire (nel caso insert\n",
    "e insert_one), la query per filtrare i documenti in tutti gli altri casi.\n",
    "\n",
    "In particolare, nel caso dell'insert:\n",
    "\n",
    "```Javascript\n",
    "//se specifico un id io, allora verrà inserito\n",
    "{\n",
    "  _id: \"custom_id_1\",\n",
    "  title: \"The Fellowship of the Ring\",\n",
    "  author: \"J.R.R. Tolkien\",\n",
    "  pages: 423,\n",
    "  genre: \"Fantasy\"\n",
    "}\n",
    "```"
   ]
  },
  {
   "cell_type": "markdown",
   "metadata": {},
   "source": [
    "## Connessione al database\n",
    "\n",
    "Utilizzando pymongo, connettersi a un database è piuttosto semplice, in particolare:\n",
    "\n",
    "- Si specifica la connection string e si crea un oggetto `MongoClient` della libreria pymongo, passando al costruttore la connection string da Compass\n",
    "- Si specifica a quale database ci si vuole connettere\n",
    "- Si specifica il nome della collection"
   ]
  },
  {
   "cell_type": "code",
   "execution_count": 3,
   "metadata": {},
   "outputs": [
    {
     "data": {
      "text/plain": [
       "Collection(Database(MongoClient(host=['ac-ov3tc7z-shard-00-02.crfcmgf.mongodb.net:27017', 'ac-ov3tc7z-shard-00-00.crfcmgf.mongodb.net:27017', 'ac-ov3tc7z-shard-00-01.crfcmgf.mongodb.net:27017'], document_class=dict, tz_aware=False, connect=True, retrywrites=True, w='majority', appname='myAtlasClusterEDU', authsource='admin', replicaset='atlas-5fwcwk-shard-0', tls=True), 'ITS_NoSQL'), 'VIDEOGAMES')"
      ]
     },
     "execution_count": 3,
     "metadata": {},
     "output_type": "execute_result"
    }
   ],
   "source": [
    "from pymongo import MongoClient\n",
    "\n",
    "connString = 'mongodb+srv://<usr>:<pw>@myatlasclusteredu.crfcmgf.mongodb.net/?retryWrites=true&w=majority&appName=myAtlasClusterEDU'\n",
    "client = MongoClient(connString)\n",
    "\n",
    "db = client['ITS_NoSQL']\n",
    "collection = db['VIDEOGAMES']"
   ]
  },
  {
   "cell_type": "markdown",
   "metadata": {},
   "source": [
    "A questo punto è possibile chiamare i metodi della collection. Per creare un _dataframe pandas_ con i dati recuperati:\n",
    "\n",
    "```python\n",
    "import pandas as pd\n",
    "\n",
    "myQuery = {} # qui definisco la query MQL che voglio applicare\n",
    "\n",
    "# leggo i dati\n",
    "risultati = collection.find(myQuery)\n",
    "listaDati = list(risultati)\n",
    "\n",
    "# creo il DataFrame pandas:\n",
    "dataFrame = pd.DataFrame.from_records(listaDati)\n",
    "\n",
    "dataFrame.head()\n",
    "```\n",
    "A questo punto si hanno i dati in un dataframe Pandas, ed è possibile esportarlo in CSV usando la funzione:\n",
    "\n",
    "```python\n",
    "dataFrame.to_csv('nomeFile',index=False)\n",
    "```\n",
    "Sperimentate un pochino e vedete cosa succede al file CSV se impostate index a True."
   ]
  },
  {
   "cell_type": "markdown",
   "metadata": {},
   "source": [
    "## Task 1\n",
    "\n",
    "1. Trovare tutti i Videogames sviluppati da From Software e da EA Sports (N.B. `{\n",
    "  developer: { $in: [\"From Software\", \"EA Sports\"] }`)\n",
    "2. Aggiornare tutti i Videogames del punto 2 aggiungendo il campo `\"sconto_percentage\":30` ai videogiochi From Software,\n",
    "e 10% di sconto ai videogiochi EA Sports\n",
    "3. Esportare i documenti aggiornati in formato CSV."
   ]
  },
  {
   "cell_type": "markdown",
   "metadata": {},
   "source": [
    "## Task 2\n",
    "\n",
    "1. Creare la collection chiamandola con il proprio cognome\n",
    "2. inserire nella collection il documento\n",
    "```{\n",
    "  \"_id\": {\n",
    "    \"$oid\": \"668c3792ca6a7f3d03fc396b\"\n",
    "  },\n",
    "  \"img\": \"/games/boxart/342342dsff.jpg\",\n",
    "  \"title\": \"Palworld\",\n",
    "  \"console\": [\"PC\",\"XBOX\"]\n",
    "  \"genre\": \"Survival\",\n",
    "  \"publisher\": \"Pocket Pair, Inc.\",\n",
    "  \"developer\": \"Pocket Pair, Inc.\",\n",
    "  \"critic_score\": 9.2,\n",
    "  \"release_date\": {\n",
    "    \"$date\": \"2024-01-19T00:00:00.000Z\"\n",
    "  }\n",
    "}\n",
    "```\n",
    "\n",
    "3. Esplorare lo schema, discutere dei principali punti e caratteristiche"
   ]
  }
 ],
 "metadata": {
  "kernelspec": {
   "display_name": "Python 3",
   "language": "python",
   "name": "python3"
  },
  "language_info": {
   "codemirror_mode": {
    "name": "ipython",
    "version": 3
   },
   "file_extension": ".py",
   "mimetype": "text/x-python",
   "name": "python",
   "nbconvert_exporter": "python",
   "pygments_lexer": "ipython3",
   "version": "3.12.2"
  }
 },
 "nbformat": 4,
 "nbformat_minor": 2
}
