{
 "cells": [
  {
   "cell_type": "markdown",
   "metadata": {},
   "source": [
    "# Esercizio - pymongo\n",
    "\n",
    "Provare a recuperare i dati da una collection di MongoDB, e visualizzarli in un dataframe Pandas.  \n",
    "A questo punto, provare ad esplorare i dati utilizzando le proprietà dei dataframe come:\n",
    "\n",
    "* .info()\n",
    "* .describe()\n",
    "* .head() e .tail()\n",
    "* Filtrare i dati\n",
    "* Salvare il dataframe risultante in un file CSV."
   ]
  },
  {
   "cell_type": "code",
   "execution_count": null,
   "metadata": {},
   "outputs": [],
   "source": [
    "# Installare le librerie necessarie\n",
    "!pip install pymongo pandas"
   ]
  },
  {
   "cell_type": "code",
   "execution_count": null,
   "metadata": {},
   "outputs": [],
   "source": [
    "# Importare le librerie necessarie\n",
    "import pandas as pd\n",
    "from pymongo import MongoClient"
   ]
  },
  {
   "cell_type": "code",
   "execution_count": null,
   "metadata": {},
   "outputs": [],
   "source": [
    "# Definire la stringa di connessione\n",
    "connection_string = \"<connString>\"\n",
    "\n",
    "# Creare una connessione al client MongoDB\n",
    "client = MongoClient(connection_string)\n",
    "\n",
    "# Specificare il database e la collezione\n",
    "db = client['VG_Stats']\n",
    "collection = db['vg_stats']\n",
    "\n",
    "# Recuperare i dati dalla collezione e convertirli in un DataFrame Pandas\n",
    "data = list(collection.find())\n",
    "df = pd.DataFrame(data)\n",
    "\n",
    "# Visualizzare il DataFrame\n",
    "df.head()"
   ]
  }
 ],
 "metadata": {
  "language_info": {
   "name": "python"
  }
 },
 "nbformat": 4,
 "nbformat_minor": 2
}
